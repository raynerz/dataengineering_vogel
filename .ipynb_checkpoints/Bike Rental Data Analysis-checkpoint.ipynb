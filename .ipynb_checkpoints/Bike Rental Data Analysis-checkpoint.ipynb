{
 "cells": [
  {
   "cell_type": "code",
   "execution_count": 79,
   "metadata": {},
   "outputs": [],
   "source": [
    "import pyspark\n"
   ]
  },
  {
   "cell_type": "markdown",
   "metadata": {},
   "source": [
    "### How to\n",
    "\n",
    "[sparkbyexamples](https://sparkbyexamples.com/spark/spark-read-csv-file-into-dataframe/)"
   ]
  },
  {
   "cell_type": "code",
   "execution_count": 80,
   "metadata": {},
   "outputs": [],
   "source": [
    "spark = SparkSession.builder.appName(\"Bike_Rental\").getOrCreate()"
   ]
  },
  {
   "cell_type": "code",
   "execution_count": 81,
   "metadata": {},
   "outputs": [],
   "source": [
    "tripdata = spark.read.format(\"csv\").options(header='true', inferSchema='true').load(\"201508_trip_data.csv\")\n",
    "\n",
    "stationdata = spark.read.format(\"csv\").option(\"header\", \"true\").load(\"201508_station_data.csv\")"
   ]
  },
  {
   "cell_type": "code",
   "execution_count": 29,
   "metadata": {},
   "outputs": [
    {
     "name": "stdout",
     "output_type": "stream",
     "text": [
      "Row(Trip ID=913460, Duration=765, Start Date='8/31/2015 23:26', Start Station='Harry Bridges Plaza (Ferry Building)', Start Terminal=50, End Date='8/31/2015 23:39', End Station='San Francisco Caltrain (Townsend at 4th)', End Terminal=70, Bike #=288, Subscriber Type='Subscriber', Zip Code='2139')\n"
     ]
    }
   ],
   "source": [
    "print(tripdata.first())"
   ]
  },
  {
   "cell_type": "code",
   "execution_count": 32,
   "metadata": {},
   "outputs": [
    {
     "name": "stdout",
     "output_type": "stream",
     "text": [
      "root\n",
      " |-- Trip ID: integer (nullable = true)\n",
      " |-- Duration: integer (nullable = true)\n",
      " |-- Start Date: string (nullable = true)\n",
      " |-- Start Station: string (nullable = true)\n",
      " |-- Start Terminal: integer (nullable = true)\n",
      " |-- End Date: string (nullable = true)\n",
      " |-- End Station: string (nullable = true)\n",
      " |-- End Terminal: integer (nullable = true)\n",
      " |-- Bike #: integer (nullable = true)\n",
      " |-- Subscriber Type: string (nullable = true)\n",
      " |-- Zip Code: string (nullable = true)\n",
      "\n",
      "None\n"
     ]
    }
   ],
   "source": [
    "print(tripdata.printSchema())"
   ]
  },
  {
   "cell_type": "code",
   "execution_count": 34,
   "metadata": {},
   "outputs": [
    {
     "name": "stdout",
     "output_type": "stream",
     "text": [
      "Row(station_id='2', name='San Jose Diridon Caltrain Station', lat='37.329732', long='-121.901782', dockcount='27', landmark='San Jose', installation='8/6/2013')\n"
     ]
    }
   ],
   "source": [
    "print(stationdata.first())"
   ]
  },
  {
   "cell_type": "code",
   "execution_count": 39,
   "metadata": {},
   "outputs": [
    {
     "name": "stdout",
     "output_type": "stream",
     "text": [
      "root\n",
      " |-- station_id: string (nullable = true)\n",
      " |-- name: string (nullable = true)\n",
      " |-- lat: string (nullable = true)\n",
      " |-- long: string (nullable = true)\n",
      " |-- dockcount: string (nullable = true)\n",
      " |-- landmark: string (nullable = true)\n",
      " |-- installation: string (nullable = true)\n",
      "\n",
      "None\n"
     ]
    }
   ],
   "source": [
    "print(stationdata.printSchema())"
   ]
  },
  {
   "cell_type": "code",
   "execution_count": 38,
   "metadata": {},
   "outputs": [
    {
     "data": {
      "text/plain": [
       "668"
      ]
     },
     "execution_count": 38,
     "metadata": {},
     "output_type": "execute_result"
    }
   ],
   "source": [
    "#1 Available bikes\n",
    "tripdata.select(\"Bike #\").distinct().count()"
   ]
  },
  {
   "cell_type": "code",
   "execution_count": 41,
   "metadata": {},
   "outputs": [
    {
     "data": {
      "text/plain": [
       "70"
      ]
     },
     "execution_count": 41,
     "metadata": {},
     "output_type": "execute_result"
    }
   ],
   "source": [
    "#2 How many rental sites exist\n",
    "\n",
    "stationdata.select(\"station_id\").distinct().count()"
   ]
  },
  {
   "cell_type": "code",
   "execution_count": 54,
   "metadata": {},
   "outputs": [
    {
     "data": {
      "text/plain": [
       "35"
      ]
     },
     "execution_count": 54,
     "metadata": {},
     "output_type": "execute_result"
    }
   ],
   "source": [
    "#2.2 how many station exists in san francisco\n",
    "stationdata.select(\"*\").where(\"landmark == 'San Francisco'\").distinct().count()"
   ]
  },
  {
   "cell_type": "code",
   "execution_count": 96,
   "metadata": {},
   "outputs": [
    {
     "data": {
      "text/plain": [
       "Row(station_id='2', name='San Jose Diridon Caltrain Station', lat='37.329732', long='-121.901782', dockcount=27.0, landmark='San Jose', installation='8/6/2013')"
      ]
     },
     "execution_count": 96,
     "metadata": {},
     "output_type": "execute_result"
    }
   ],
   "source": [
    "#3 which station has the most number of spots (docks) for bikes?\n",
    "stationdata = stationdata.withColumn(\"dockcount\", stationdata[\"dockcount\"].cast('float'))\n",
    "\n",
    "\n",
    "\n",
    "stationdata.select(\"*\").orderBy(\"dockcount\", ascending=False).first()\n",
    "\n",
    "#stationdata.groupby().max(\"dockcount\").show()"
   ]
  },
  {
   "cell_type": "code",
   "execution_count": 93,
   "metadata": {},
   "outputs": [
    {
     "name": "stdout",
     "output_type": "stream",
     "text": [
      "+------------------+\n",
      "|     avg(Duration)|\n",
      "+------------------+\n",
      "|1046.0326611172604|\n",
      "+------------------+\n",
      "\n"
     ]
    }
   ],
   "source": [
    "#4 How long is the average duration of a trip\n",
    "tripdata.groupby().mean(\"Duration\").show()"
   ]
  }
 ],
 "metadata": {
  "kernelspec": {
   "display_name": "Python 3",
   "language": "python",
   "name": "python3"
  },
  "language_info": {
   "codemirror_mode": {
    "name": "ipython",
    "version": 3
   },
   "file_extension": ".py",
   "mimetype": "text/x-python",
   "name": "python",
   "nbconvert_exporter": "python",
   "pygments_lexer": "ipython3",
   "version": "3.7.4"
  }
 },
 "nbformat": 4,
 "nbformat_minor": 2
}

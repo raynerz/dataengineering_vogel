{
 "cells": [
  {
   "cell_type": "code",
   "execution_count": 34,
   "metadata": {},
   "outputs": [],
   "source": [
    "import pyspark\n",
    "from pyspark.sql import SparkSession\n",
    "from pyspark.sql import functions as F"
   ]
  },
  {
   "cell_type": "markdown",
   "metadata": {},
   "source": [
    "### How to\n",
    "\n",
    "[sparkbyexamples](https://sparkbyexamples.com/spark/spark-read-csv-file-into-dataframe/)"
   ]
  },
  {
   "cell_type": "code",
   "execution_count": 11,
   "metadata": {},
   "outputs": [],
   "source": [
    "spark = SparkSession.builder.appName(\"Bike_Rental\").getOrCreate()"
   ]
  },
  {
   "cell_type": "code",
   "execution_count": 12,
   "metadata": {},
   "outputs": [],
   "source": [
    "tripdata = spark.read.format(\"csv\").options(header='true', inferSchema='true').load(\"201508_trip_data.csv\")\n",
    "\n",
    "stationdata = spark.read.format(\"csv\").option(\"header\", \"true\").load(\"201508_station_data.csv\")"
   ]
  },
  {
   "cell_type": "code",
   "execution_count": 6,
   "metadata": {},
   "outputs": [
    {
     "ename": "NameError",
     "evalue": "name 'tripdata' is not defined",
     "output_type": "error",
     "traceback": [
      "\u001b[0;31m---------------------------------------------------------------------------\u001b[0m",
      "\u001b[0;31mNameError\u001b[0m                                 Traceback (most recent call last)",
      "\u001b[0;32m<ipython-input-6-bc77882f57fe>\u001b[0m in \u001b[0;36m<module>\u001b[0;34m\u001b[0m\n\u001b[0;32m----> 1\u001b[0;31m \u001b[0mprint\u001b[0m\u001b[0;34m(\u001b[0m\u001b[0mtripdata\u001b[0m\u001b[0;34m.\u001b[0m\u001b[0mfirst\u001b[0m\u001b[0;34m(\u001b[0m\u001b[0;34m)\u001b[0m\u001b[0;34m)\u001b[0m\u001b[0;34m\u001b[0m\u001b[0;34m\u001b[0m\u001b[0m\n\u001b[0m",
      "\u001b[0;31mNameError\u001b[0m: name 'tripdata' is not defined"
     ]
    }
   ],
   "source": [
    "print(tripdata.first())"
   ]
  },
  {
   "cell_type": "code",
   "execution_count": 32,
   "metadata": {},
   "outputs": [
    {
     "name": "stdout",
     "output_type": "stream",
     "text": [
      "root\n",
      " |-- Trip ID: integer (nullable = true)\n",
      " |-- Duration: integer (nullable = true)\n",
      " |-- Start Date: string (nullable = true)\n",
      " |-- Start Station: string (nullable = true)\n",
      " |-- Start Terminal: integer (nullable = true)\n",
      " |-- End Date: string (nullable = true)\n",
      " |-- End Station: string (nullable = true)\n",
      " |-- End Terminal: integer (nullable = true)\n",
      " |-- Bike #: integer (nullable = true)\n",
      " |-- Subscriber Type: string (nullable = true)\n",
      " |-- Zip Code: string (nullable = true)\n",
      "\n",
      "None\n"
     ]
    }
   ],
   "source": [
    "print(tripdata.printSchema())"
   ]
  },
  {
   "cell_type": "code",
   "execution_count": 34,
   "metadata": {},
   "outputs": [
    {
     "name": "stdout",
     "output_type": "stream",
     "text": [
      "Row(station_id='2', name='San Jose Diridon Caltrain Station', lat='37.329732', long='-121.901782', dockcount='27', landmark='San Jose', installation='8/6/2013')\n"
     ]
    }
   ],
   "source": [
    "print(stationdata.first())"
   ]
  },
  {
   "cell_type": "code",
   "execution_count": 39,
   "metadata": {},
   "outputs": [
    {
     "name": "stdout",
     "output_type": "stream",
     "text": [
      "root\n",
      " |-- station_id: string (nullable = true)\n",
      " |-- name: string (nullable = true)\n",
      " |-- lat: string (nullable = true)\n",
      " |-- long: string (nullable = true)\n",
      " |-- dockcount: string (nullable = true)\n",
      " |-- landmark: string (nullable = true)\n",
      " |-- installation: string (nullable = true)\n",
      "\n",
      "None\n"
     ]
    }
   ],
   "source": [
    "print(stationdata.printSchema())"
   ]
  },
  {
   "cell_type": "code",
   "execution_count": 38,
   "metadata": {},
   "outputs": [
    {
     "data": {
      "text/plain": [
       "668"
      ]
     },
     "execution_count": 38,
     "metadata": {},
     "output_type": "execute_result"
    }
   ],
   "source": [
    "#1 Available bikes\n",
    "tripdata.select(\"Bike #\").distinct().count()"
   ]
  },
  {
   "cell_type": "code",
   "execution_count": 41,
   "metadata": {},
   "outputs": [
    {
     "data": {
      "text/plain": [
       "70"
      ]
     },
     "execution_count": 41,
     "metadata": {},
     "output_type": "execute_result"
    }
   ],
   "source": [
    "#2 How many rental sites exist\n",
    "\n",
    "stationdata.select(\"station_id\").distinct().count()"
   ]
  },
  {
   "cell_type": "code",
   "execution_count": 54,
   "metadata": {},
   "outputs": [
    {
     "data": {
      "text/plain": [
       "35"
      ]
     },
     "execution_count": 54,
     "metadata": {},
     "output_type": "execute_result"
    }
   ],
   "source": [
    "#2.2 how many station exists in san francisco\n",
    "stationdata.select(\"*\").where(\"landmark == 'San Francisco'\").distinct().count()"
   ]
  },
  {
   "cell_type": "code",
   "execution_count": 96,
   "metadata": {},
   "outputs": [
    {
     "data": {
      "text/plain": [
       "Row(station_id='2', name='San Jose Diridon Caltrain Station', lat='37.329732', long='-121.901782', dockcount=27.0, landmark='San Jose', installation='8/6/2013')"
      ]
     },
     "execution_count": 96,
     "metadata": {},
     "output_type": "execute_result"
    }
   ],
   "source": [
    "#3 which station has the most number of spots (docks) for bikes?\n",
    "stationdata = stationdata.withColumn(\"dockcount\", stationdata[\"dockcount\"].cast('float'))\n",
    "\n",
    "\n",
    "\n",
    "stationdata.select(\"*\").orderBy(\"dockcount\", ascending=False).first()\n",
    "\n",
    "#stationdata.groupby().max(\"dockcount\").show()"
   ]
  },
  {
   "cell_type": "code",
   "execution_count": 13,
   "metadata": {},
   "outputs": [
    {
     "name": "stdout",
     "output_type": "stream",
     "text": [
      "+------------------+\n",
      "|     avg(Duration)|\n",
      "+------------------+\n",
      "|1046.0326611172604|\n",
      "+------------------+\n",
      "\n"
     ]
    }
   ],
   "source": [
    "#4 How long is the average duration of a trip\n",
    "tripdata.groupby().mean(\"Duration\").show()"
   ]
  },
  {
   "cell_type": "code",
   "execution_count": 27,
   "metadata": {},
   "outputs": [
    {
     "name": "stdout",
     "output_type": "stream",
     "text": [
      "+------+-----+\n",
      "|Bike #|count|\n",
      "+------+-----+\n",
      "|     9|  144|\n",
      "|    10|  133|\n",
      "|    11|   83|\n",
      "|    12|   80|\n",
      "|    13|  112|\n",
      "|    14|  106|\n",
      "|    15|   76|\n",
      "|    16| 1026|\n",
      "|    17|  153|\n",
      "|    18|  133|\n",
      "|    19|  172|\n",
      "|    20|  113|\n",
      "|    21|   94|\n",
      "|    22|  160|\n",
      "|    23|  143|\n",
      "|    24|   28|\n",
      "|    25|  175|\n",
      "|    26|   39|\n",
      "|    27|   82|\n",
      "|    28|  166|\n",
      "+------+-----+\n",
      "only showing top 20 rows\n",
      "\n"
     ]
    }
   ],
   "source": [
    "#5 How many bike trips tool place \n",
    "\n",
    "\n",
    "#overall = tripdata.select(\"*\").distinct().count()\n",
    "#per_starting_station = tripdata.select(\"*\").groupby(\"Start Station\").count().show()\n",
    "#print(\"Overall = {}\".format(overall))\n",
    "per_bike = tripdata.select(\"*\").orderBy(\"Bike #\", \n",
    "                                        ascending=True).groupby(\"Bike #\").count().show()\n"
   ]
  },
  {
   "cell_type": "code",
   "execution_count": 42,
   "metadata": {},
   "outputs": [
    {
     "name": "stdout",
     "output_type": "stream",
     "text": [
      "Percentage of rount trips = 100.0\n"
     ]
    }
   ],
   "source": [
    "#6 What is the percentage of rountrips\n",
    "\n",
    "all_trips = tripdata.select(\"Trip ID\").distinct().count()\n",
    "trips_with_end = tripdata.select(\"*\").where(F.col(\"End Station\").isNotNull()).count()\n",
    "\n",
    "print(\"Percentage of rount trips = {}\".format(trips_with_end/all_trips*100))"
   ]
  },
  {
   "cell_type": "code",
   "execution_count": 48,
   "metadata": {},
   "outputs": [
    {
     "name": "stdout",
     "output_type": "stream",
     "text": [
      "+-------+--------+-------------+--------------------+--------------+-------------+--------------------+------------+------+---------------+--------+\n",
      "|Trip ID|Duration|   Start Date|       Start Station|Start Terminal|     End Date|         End Station|End Terminal|Bike #|Subscriber Type|Zip Code|\n",
      "+-------+--------+-------------+--------------------+--------------+-------------+--------------------+------------+------+---------------+--------+\n",
      "| 444322|     743|9/9/2014 9:46|Harry Bridges Pla...|            50|9/9/2014 9:59|San Francisco Cal...|          69|   538|     Subscriber|   94591|\n",
      "| 444329|     548|9/9/2014 9:49|     2nd at Townsend|            61|9/9/2014 9:58|       5th at Howard|          57|   430|     Subscriber|   94107|\n",
      "| 444338|     428|9/9/2014 9:50|San Francisco Cit...|            58|9/9/2014 9:58|  Powell Street BART|          39|   878|     Subscriber|   94102|\n",
      "| 444336|     261|9/9/2014 9:53|Harry Bridges Pla...|            50|9/9/2014 9:57|Mechanics Plaza (...|          75|   400|     Subscriber|   94930|\n",
      "| 444323|     652|9/9/2014 9:46|San Francisco Cal...|            70|9/9/2014 9:57|Temporary Transba...|          55|   391|     Subscriber|   95008|\n",
      "| 444325|     543|9/9/2014 9:47|Harry Bridges Pla...|            50|9/9/2014 9:56|     2nd at Townsend|          61|   599|     Subscriber|   94503|\n",
      "| 444328|     517|9/9/2014 9:48|Powell at Post (U...|            71|9/9/2014 9:56|Broadway St at Ba...|          82|   401|     Subscriber|   94109|\n",
      "| 444326|     482|9/9/2014 9:47|San Francisco Cal...|            70|9/9/2014 9:55|   Market at Sansome|          77|   556|     Subscriber|   95051|\n",
      "| 444333|     294|9/9/2014 9:50|       Market at 4th|            76|9/9/2014 9:55|       5th at Howard|          57|   548|     Subscriber|   94110|\n",
      "| 444324|     404|9/9/2014 9:46|Mountain View Cal...|            28|9/9/2014 9:53|Castro Street and...|          32|    95|     Subscriber|   94107|\n",
      "| 444316|     482|9/9/2014 9:45|   Steuart at Market|            74|9/9/2014 9:53|Yerba Buena Cente...|          68|   625|     Subscriber|   94501|\n",
      "| 444319|     373|9/9/2014 9:45|  Powell Street BART|            39|9/9/2014 9:52|San Francisco Cal...|          69|   583|     Subscriber|   94107|\n",
      "| 444320|     233|9/9/2014 9:46|Mountain View Cal...|            28|9/9/2014 9:50|Mountain View Cit...|          27|   218|     Subscriber|   94107|\n",
      "| 444318|     313|9/9/2014 9:45|Mountain View Cal...|            28|9/9/2014 9:50|Castro Street and...|          32|    60|     Subscriber|   94133|\n",
      "| 444321|     225|9/9/2014 9:46|Mountain View Cal...|            28|9/9/2014 9:50|Mountain View Cit...|          27|   262|     Subscriber|   94107|\n",
      "| 444311|     380|9/9/2014 9:44|   Market at Sansome|            77|9/9/2014 9:50|Broadway St at Ba...|          82|   292|     Subscriber|   94131|\n",
      "| 444327|      69|9/9/2014 9:48|San Francisco Cal...|            70|9/9/2014 9:49|San Francisco Cal...|          70|   426|     Subscriber|   95050|\n",
      "| 444306|     380|9/9/2014 9:41|Yerba Buena Cente...|            68|9/9/2014 9:48|   Market at Sansome|          77|   482|       Customer|   98103|\n",
      "| 444299|     473|9/9/2014 9:40|Yerba Buena Cente...|            68|9/9/2014 9:48|   Market at Sansome|          77|   584|     Subscriber|   98034|\n",
      "| 444292|     523|9/9/2014 9:39|      Market at 10th|            67|9/9/2014 9:48|Yerba Buena Cente...|          68|   461|     Subscriber|   94102|\n",
      "+-------+--------+-------------+--------------------+--------------+-------------+--------------------+------------+------+---------------+--------+\n",
      "only showing top 20 rows\n",
      "\n"
     ]
    }
   ],
   "source": [
    "# on which day occurred the most bike trips\n",
    "\n",
    "#Overall\n",
    "tripdata.select(\"*\").orderBy(\"End Date\", ascending=True).\n",
    "\n"
   ]
  }
 ],
 "metadata": {
  "kernelspec": {
   "display_name": "Python 3",
   "language": "python",
   "name": "python3"
  },
  "language_info": {
   "codemirror_mode": {
    "name": "ipython",
    "version": 3
   },
   "file_extension": ".py",
   "mimetype": "text/x-python",
   "name": "python",
   "nbconvert_exporter": "python",
   "pygments_lexer": "ipython3",
   "version": "3.7.4"
  }
 },
 "nbformat": 4,
 "nbformat_minor": 2
}

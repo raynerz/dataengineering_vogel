{
 "cells": [
  {
   "cell_type": "markdown",
   "metadata": {},
   "source": [
    "### Using the spark ADD API answer the following questions"
   ]
  },
  {
   "cell_type": "code",
   "execution_count": 1,
   "metadata": {},
   "outputs": [],
   "source": [
    "# importing spark\n",
    "\n",
    "import pyspark\n",
    "\n",
    "# Creating context \n",
    "\n",
    "sc = pyspark.SparkContext(appName=\"OnlineStore\")"
   ]
  },
  {
   "cell_type": "code",
   "execution_count": 27,
   "metadata": {},
   "outputs": [],
   "source": [
    "#read the tsv file\n",
    "\n",
    "data = sc.textFile(\"online_retail.tsv\").map(lambda line: line.split(\"\\t\"))"
   ]
  },
  {
   "cell_type": "code",
   "execution_count": 28,
   "metadata": {},
   "outputs": [
    {
     "data": {
      "text/plain": [
       "[['536365',\n",
       "  '85123A',\n",
       "  'WHITE HANGING HEART T-LIGHT HOLDER',\n",
       "  '6',\n",
       "  '12/1/10 8:26',\n",
       "  '2,55',\n",
       "  '17850',\n",
       "  'United Kingdom'],\n",
       " ['536365',\n",
       "  '71053',\n",
       "  'WHITE METAL LANTERN',\n",
       "  '6',\n",
       "  '12/1/10 8:26',\n",
       "  '3,39',\n",
       "  '17850',\n",
       "  'United Kingdom'],\n",
       " ['536365',\n",
       "  '84406B',\n",
       "  'CREAM CUPID HEARTS COAT HANGER',\n",
       "  '8',\n",
       "  '12/1/10 8:26',\n",
       "  '2,75',\n",
       "  '17850',\n",
       "  'United Kingdom']]"
      ]
     },
     "execution_count": 28,
     "metadata": {},
     "output_type": "execute_result"
    }
   ],
   "source": [
    "header = data.first();\n",
    "\n",
    "data = data.filter(lambda row : row != header)\n"
   ]
  },
  {
   "cell_type": "code",
   "execution_count": 29,
   "metadata": {},
   "outputs": [],
   "source": [
    "# 1) number of sale transactions\n",
    "\n",
    "total_transactions = data.map(lambda row: row[0]).distinct().count() \n"
   ]
  },
  {
   "cell_type": "code",
   "execution_count": 30,
   "metadata": {},
   "outputs": [
    {
     "name": "stdout",
     "output_type": "stream",
     "text": [
      "25900\n"
     ]
    }
   ],
   "source": [
    "print(total_transactions)"
   ]
  }
 ],
 "metadata": {
  "kernelspec": {
   "display_name": "Python 3",
   "language": "python",
   "name": "python3"
  },
  "language_info": {
   "codemirror_mode": {
    "name": "ipython",
    "version": 3
   },
   "file_extension": ".py",
   "mimetype": "text/x-python",
   "name": "python",
   "nbconvert_exporter": "python",
   "pygments_lexer": "ipython3",
   "version": "3.7.4"
  }
 },
 "nbformat": 4,
 "nbformat_minor": 2
}
